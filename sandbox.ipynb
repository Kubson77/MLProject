{
 "cells": [
  {
   "cell_type": "code",
   "execution_count": 1,
   "outputs": [],
   "source": [
    "import numpy as np\n",
    "import pandas as pd"
   ],
   "metadata": {
    "collapsed": false,
    "pycharm": {
     "name": "#%%\n"
    }
   }
  },
  {
   "cell_type": "code",
   "execution_count": 2,
   "outputs": [],
   "source": [
    "parse_dates = ['Date', 'Day']\n",
    "df = pd.read_csv('data/nyc-east-river-bicycle-counts.csv', index_col=0, parse_dates=parse_dates)"
   ],
   "metadata": {
    "collapsed": false,
    "pycharm": {
     "name": "#%%\n"
    }
   }
  },
  {
   "cell_type": "code",
   "execution_count": 3,
   "outputs": [
    {
     "data": {
      "text/plain": "        Date        Day  High Temp (°F)  Low Temp (°F) Precipitation  \\\n0 2016-04-01 2016-04-01            78.1           66.0          0.01   \n1 2016-04-02 2016-04-02            55.0           48.9          0.15   \n2 2016-04-03 2016-04-03            39.9           34.0          0.09   \n3 2016-04-04 2016-04-04            44.1           33.1      0.47 (S)   \n4 2016-04-05 2016-04-05            42.1           26.1             0   \n\n   Brooklyn Bridge  Manhattan Bridge  Williamsburg Bridge  Queensboro Bridge  \\\n0           1704.0              3126               4115.0             2552.0   \n1            827.0              1646               2565.0             1884.0   \n2            526.0              1232               1695.0             1306.0   \n3            521.0              1067               1440.0             1307.0   \n4           1416.0              2617               3081.0             2357.0   \n\n   Total  \n0  11497  \n1   6922  \n2   4759  \n3   4335  \n4   9471  ",
      "text/html": "<div>\n<style scoped>\n    .dataframe tbody tr th:only-of-type {\n        vertical-align: middle;\n    }\n\n    .dataframe tbody tr th {\n        vertical-align: top;\n    }\n\n    .dataframe thead th {\n        text-align: right;\n    }\n</style>\n<table border=\"1\" class=\"dataframe\">\n  <thead>\n    <tr style=\"text-align: right;\">\n      <th></th>\n      <th>Date</th>\n      <th>Day</th>\n      <th>High Temp (°F)</th>\n      <th>Low Temp (°F)</th>\n      <th>Precipitation</th>\n      <th>Brooklyn Bridge</th>\n      <th>Manhattan Bridge</th>\n      <th>Williamsburg Bridge</th>\n      <th>Queensboro Bridge</th>\n      <th>Total</th>\n    </tr>\n  </thead>\n  <tbody>\n    <tr>\n      <th>0</th>\n      <td>2016-04-01</td>\n      <td>2016-04-01</td>\n      <td>78.1</td>\n      <td>66.0</td>\n      <td>0.01</td>\n      <td>1704.0</td>\n      <td>3126</td>\n      <td>4115.0</td>\n      <td>2552.0</td>\n      <td>11497</td>\n    </tr>\n    <tr>\n      <th>1</th>\n      <td>2016-04-02</td>\n      <td>2016-04-02</td>\n      <td>55.0</td>\n      <td>48.9</td>\n      <td>0.15</td>\n      <td>827.0</td>\n      <td>1646</td>\n      <td>2565.0</td>\n      <td>1884.0</td>\n      <td>6922</td>\n    </tr>\n    <tr>\n      <th>2</th>\n      <td>2016-04-03</td>\n      <td>2016-04-03</td>\n      <td>39.9</td>\n      <td>34.0</td>\n      <td>0.09</td>\n      <td>526.0</td>\n      <td>1232</td>\n      <td>1695.0</td>\n      <td>1306.0</td>\n      <td>4759</td>\n    </tr>\n    <tr>\n      <th>3</th>\n      <td>2016-04-04</td>\n      <td>2016-04-04</td>\n      <td>44.1</td>\n      <td>33.1</td>\n      <td>0.47 (S)</td>\n      <td>521.0</td>\n      <td>1067</td>\n      <td>1440.0</td>\n      <td>1307.0</td>\n      <td>4335</td>\n    </tr>\n    <tr>\n      <th>4</th>\n      <td>2016-04-05</td>\n      <td>2016-04-05</td>\n      <td>42.1</td>\n      <td>26.1</td>\n      <td>0</td>\n      <td>1416.0</td>\n      <td>2617</td>\n      <td>3081.0</td>\n      <td>2357.0</td>\n      <td>9471</td>\n    </tr>\n  </tbody>\n</table>\n</div>"
     },
     "execution_count": 3,
     "metadata": {},
     "output_type": "execute_result"
    }
   ],
   "source": [
    "df.head()"
   ],
   "metadata": {
    "collapsed": false,
    "pycharm": {
     "name": "#%%\n"
    }
   }
  },
  {
   "cell_type": "code",
   "execution_count": 4,
   "outputs": [],
   "source": [
    "df['Day'] = df.Day.dt.weekday"
   ],
   "metadata": {
    "collapsed": false,
    "pycharm": {
     "name": "#%%\n"
    }
   }
  },
  {
   "cell_type": "code",
   "execution_count": 5,
   "outputs": [
    {
     "data": {
      "text/plain": "         Date  Day  High Temp (°F)  Low Temp (°F) Precipitation  \\\n0  2016-04-01    4            78.1           66.0          0.01   \n1  2016-04-02    5            55.0           48.9          0.15   \n2  2016-04-03    6            39.9           34.0          0.09   \n3  2016-04-04    0            44.1           33.1      0.47 (S)   \n4  2016-04-05    1            42.1           26.1             0   \n5  2016-04-06    2            45.0           30.0             0   \n6  2016-04-07    3            57.0           53.1          0.09   \n7  2016-04-08    4            46.9           44.1          0.01   \n8  2016-04-09    5            43.0           37.9          0.09   \n9  2016-04-10    6            48.9           30.9             0   \n10 2016-04-11    0            62.1           46.0          0.01   \n11 2016-04-12    1            57.0           45.0           0.2   \n12 2016-04-13    2            57.0           39.9             0   \n13 2016-04-14    3            62.1           44.6             0   \n14 2016-04-15    4            64.0           44.1             0   \n15 2016-04-16    5            66.0           45.0             0   \n16 2016-04-17    6            73.9           46.0             0   \n17 2016-04-18    0            81.0           52.0             0   \n18 2016-04-19    1            71.1           63.0             0   \n19 2016-04-20    2            68.0           50.0             0   \n\n    Brooklyn Bridge  Manhattan Bridge  Williamsburg Bridge  Queensboro Bridge  \\\n0            1704.0              3126               4115.0             2552.0   \n1             827.0              1646               2565.0             1884.0   \n2             526.0              1232               1695.0             1306.0   \n3             521.0              1067               1440.0             1307.0   \n4            1416.0              2617               3081.0             2357.0   \n5            1885.0              3329               3856.0             2849.0   \n6            1276.0              2581               3282.0             2457.0   \n7            1982.0              3455               4113.0             3194.0   \n8             504.0               997               1507.0             1502.0   \n9            1447.0              2387               3132.0             2160.0   \n10           2005.0              3791               4334.0             3182.0   \n11           1045.0              2178               2762.0             2082.0   \n12           2840.0              5395               5995.0             4192.0   \n13           2861.0              5309               6030.0             4115.0   \n14           2770.0              5072               5816.0             3912.0   \n15           2384.0              4316               5624.0             4051.0   \n16           3147.0              4969               5867.0             4197.0   \n17           3871.0              6823               7432.0             4964.0   \n18           3501.0              6951               7834.0             5032.0   \n19           3450.0              6574               7639.0             4928.0   \n\n    Total  \n0   11497  \n1    6922  \n2    4759  \n3    4335  \n4    9471  \n5   11919  \n6    9596  \n7   12744  \n8    4510  \n9    9126  \n10  13312  \n11   8067  \n12  18422  \n13  18315  \n14  17570  \n15  16375  \n16  18180  \n17  23090  \n18  23318  \n19  22591  ",
      "text/html": "<div>\n<style scoped>\n    .dataframe tbody tr th:only-of-type {\n        vertical-align: middle;\n    }\n\n    .dataframe tbody tr th {\n        vertical-align: top;\n    }\n\n    .dataframe thead th {\n        text-align: right;\n    }\n</style>\n<table border=\"1\" class=\"dataframe\">\n  <thead>\n    <tr style=\"text-align: right;\">\n      <th></th>\n      <th>Date</th>\n      <th>Day</th>\n      <th>High Temp (°F)</th>\n      <th>Low Temp (°F)</th>\n      <th>Precipitation</th>\n      <th>Brooklyn Bridge</th>\n      <th>Manhattan Bridge</th>\n      <th>Williamsburg Bridge</th>\n      <th>Queensboro Bridge</th>\n      <th>Total</th>\n    </tr>\n  </thead>\n  <tbody>\n    <tr>\n      <th>0</th>\n      <td>2016-04-01</td>\n      <td>4</td>\n      <td>78.1</td>\n      <td>66.0</td>\n      <td>0.01</td>\n      <td>1704.0</td>\n      <td>3126</td>\n      <td>4115.0</td>\n      <td>2552.0</td>\n      <td>11497</td>\n    </tr>\n    <tr>\n      <th>1</th>\n      <td>2016-04-02</td>\n      <td>5</td>\n      <td>55.0</td>\n      <td>48.9</td>\n      <td>0.15</td>\n      <td>827.0</td>\n      <td>1646</td>\n      <td>2565.0</td>\n      <td>1884.0</td>\n      <td>6922</td>\n    </tr>\n    <tr>\n      <th>2</th>\n      <td>2016-04-03</td>\n      <td>6</td>\n      <td>39.9</td>\n      <td>34.0</td>\n      <td>0.09</td>\n      <td>526.0</td>\n      <td>1232</td>\n      <td>1695.0</td>\n      <td>1306.0</td>\n      <td>4759</td>\n    </tr>\n    <tr>\n      <th>3</th>\n      <td>2016-04-04</td>\n      <td>0</td>\n      <td>44.1</td>\n      <td>33.1</td>\n      <td>0.47 (S)</td>\n      <td>521.0</td>\n      <td>1067</td>\n      <td>1440.0</td>\n      <td>1307.0</td>\n      <td>4335</td>\n    </tr>\n    <tr>\n      <th>4</th>\n      <td>2016-04-05</td>\n      <td>1</td>\n      <td>42.1</td>\n      <td>26.1</td>\n      <td>0</td>\n      <td>1416.0</td>\n      <td>2617</td>\n      <td>3081.0</td>\n      <td>2357.0</td>\n      <td>9471</td>\n    </tr>\n    <tr>\n      <th>5</th>\n      <td>2016-04-06</td>\n      <td>2</td>\n      <td>45.0</td>\n      <td>30.0</td>\n      <td>0</td>\n      <td>1885.0</td>\n      <td>3329</td>\n      <td>3856.0</td>\n      <td>2849.0</td>\n      <td>11919</td>\n    </tr>\n    <tr>\n      <th>6</th>\n      <td>2016-04-07</td>\n      <td>3</td>\n      <td>57.0</td>\n      <td>53.1</td>\n      <td>0.09</td>\n      <td>1276.0</td>\n      <td>2581</td>\n      <td>3282.0</td>\n      <td>2457.0</td>\n      <td>9596</td>\n    </tr>\n    <tr>\n      <th>7</th>\n      <td>2016-04-08</td>\n      <td>4</td>\n      <td>46.9</td>\n      <td>44.1</td>\n      <td>0.01</td>\n      <td>1982.0</td>\n      <td>3455</td>\n      <td>4113.0</td>\n      <td>3194.0</td>\n      <td>12744</td>\n    </tr>\n    <tr>\n      <th>8</th>\n      <td>2016-04-09</td>\n      <td>5</td>\n      <td>43.0</td>\n      <td>37.9</td>\n      <td>0.09</td>\n      <td>504.0</td>\n      <td>997</td>\n      <td>1507.0</td>\n      <td>1502.0</td>\n      <td>4510</td>\n    </tr>\n    <tr>\n      <th>9</th>\n      <td>2016-04-10</td>\n      <td>6</td>\n      <td>48.9</td>\n      <td>30.9</td>\n      <td>0</td>\n      <td>1447.0</td>\n      <td>2387</td>\n      <td>3132.0</td>\n      <td>2160.0</td>\n      <td>9126</td>\n    </tr>\n    <tr>\n      <th>10</th>\n      <td>2016-04-11</td>\n      <td>0</td>\n      <td>62.1</td>\n      <td>46.0</td>\n      <td>0.01</td>\n      <td>2005.0</td>\n      <td>3791</td>\n      <td>4334.0</td>\n      <td>3182.0</td>\n      <td>13312</td>\n    </tr>\n    <tr>\n      <th>11</th>\n      <td>2016-04-12</td>\n      <td>1</td>\n      <td>57.0</td>\n      <td>45.0</td>\n      <td>0.2</td>\n      <td>1045.0</td>\n      <td>2178</td>\n      <td>2762.0</td>\n      <td>2082.0</td>\n      <td>8067</td>\n    </tr>\n    <tr>\n      <th>12</th>\n      <td>2016-04-13</td>\n      <td>2</td>\n      <td>57.0</td>\n      <td>39.9</td>\n      <td>0</td>\n      <td>2840.0</td>\n      <td>5395</td>\n      <td>5995.0</td>\n      <td>4192.0</td>\n      <td>18422</td>\n    </tr>\n    <tr>\n      <th>13</th>\n      <td>2016-04-14</td>\n      <td>3</td>\n      <td>62.1</td>\n      <td>44.6</td>\n      <td>0</td>\n      <td>2861.0</td>\n      <td>5309</td>\n      <td>6030.0</td>\n      <td>4115.0</td>\n      <td>18315</td>\n    </tr>\n    <tr>\n      <th>14</th>\n      <td>2016-04-15</td>\n      <td>4</td>\n      <td>64.0</td>\n      <td>44.1</td>\n      <td>0</td>\n      <td>2770.0</td>\n      <td>5072</td>\n      <td>5816.0</td>\n      <td>3912.0</td>\n      <td>17570</td>\n    </tr>\n    <tr>\n      <th>15</th>\n      <td>2016-04-16</td>\n      <td>5</td>\n      <td>66.0</td>\n      <td>45.0</td>\n      <td>0</td>\n      <td>2384.0</td>\n      <td>4316</td>\n      <td>5624.0</td>\n      <td>4051.0</td>\n      <td>16375</td>\n    </tr>\n    <tr>\n      <th>16</th>\n      <td>2016-04-17</td>\n      <td>6</td>\n      <td>73.9</td>\n      <td>46.0</td>\n      <td>0</td>\n      <td>3147.0</td>\n      <td>4969</td>\n      <td>5867.0</td>\n      <td>4197.0</td>\n      <td>18180</td>\n    </tr>\n    <tr>\n      <th>17</th>\n      <td>2016-04-18</td>\n      <td>0</td>\n      <td>81.0</td>\n      <td>52.0</td>\n      <td>0</td>\n      <td>3871.0</td>\n      <td>6823</td>\n      <td>7432.0</td>\n      <td>4964.0</td>\n      <td>23090</td>\n    </tr>\n    <tr>\n      <th>18</th>\n      <td>2016-04-19</td>\n      <td>1</td>\n      <td>71.1</td>\n      <td>63.0</td>\n      <td>0</td>\n      <td>3501.0</td>\n      <td>6951</td>\n      <td>7834.0</td>\n      <td>5032.0</td>\n      <td>23318</td>\n    </tr>\n    <tr>\n      <th>19</th>\n      <td>2016-04-20</td>\n      <td>2</td>\n      <td>68.0</td>\n      <td>50.0</td>\n      <td>0</td>\n      <td>3450.0</td>\n      <td>6574</td>\n      <td>7639.0</td>\n      <td>4928.0</td>\n      <td>22591</td>\n    </tr>\n  </tbody>\n</table>\n</div>"
     },
     "execution_count": 5,
     "metadata": {},
     "output_type": "execute_result"
    }
   ],
   "source": [
    "df.head(20)"
   ],
   "metadata": {
    "collapsed": false,
    "pycharm": {
     "name": "#%%\n"
    }
   }
  },
  {
   "cell_type": "code",
   "execution_count": 6,
   "outputs": [
    {
     "name": "stdout",
     "output_type": "stream",
     "text": [
      "<class 'pandas.core.frame.DataFrame'>\n",
      "Int64Index: 210 entries, 0 to 209\n",
      "Data columns (total 10 columns):\n",
      " #   Column               Non-Null Count  Dtype         \n",
      "---  ------               --------------  -----         \n",
      " 0   Date                 210 non-null    datetime64[ns]\n",
      " 1   Day                  210 non-null    int64         \n",
      " 2   High Temp (°F)       210 non-null    float64       \n",
      " 3   Low Temp (°F)        210 non-null    float64       \n",
      " 4   Precipitation        210 non-null    object        \n",
      " 5   Brooklyn Bridge      210 non-null    float64       \n",
      " 6   Manhattan Bridge     210 non-null    int64         \n",
      " 7   Williamsburg Bridge  210 non-null    float64       \n",
      " 8   Queensboro Bridge    210 non-null    float64       \n",
      " 9   Total                210 non-null    int64         \n",
      "dtypes: datetime64[ns](1), float64(5), int64(3), object(1)\n",
      "memory usage: 18.0+ KB\n"
     ]
    }
   ],
   "source": [
    "df.info()"
   ],
   "metadata": {
    "collapsed": false,
    "pycharm": {
     "name": "#%%\n"
    }
   }
  },
  {
   "cell_type": "code",
   "execution_count": 7,
   "outputs": [
    {
     "data": {
      "text/plain": "0       True\n1       True\n2       True\n3      False\n4       True\n       ...  \n205     True\n206     True\n207     True\n208     True\n209     True\nName: Precipitation, Length: 210, dtype: bool"
     },
     "execution_count": 7,
     "metadata": {},
     "output_type": "execute_result"
    }
   ],
   "source": [
    "df['Precipitation'].str.fullmatch(r'[0-9]*.[0-9]*')"
   ],
   "metadata": {
    "collapsed": false,
    "pycharm": {
     "name": "#%%\n"
    }
   }
  },
  {
   "cell_type": "code",
   "execution_count": 8,
   "outputs": [
    {
     "data": {
      "text/plain": "          Date  Day  High Temp (°F)  Low Temp (°F) Precipitation  \\\n3   2016-04-04    0            44.1           33.1      0.47 (S)   \n33  2016-04-04    0            44.1           33.1      0.47 (S)   \n63  2016-04-04    0            44.1           33.1      0.47 (S)   \n93  2016-04-04    0            44.1           33.1      0.47 (S)   \n123 2016-04-04    0            44.1           33.1      0.47 (S)   \n153 2016-04-04    0            44.1           33.1      0.47 (S)   \n183 2016-04-04    0            44.1           33.1      0.47 (S)   \n\n     Brooklyn Bridge  Manhattan Bridge  Williamsburg Bridge  \\\n3              521.0              1067               1440.0   \n33             521.0              1067               1440.0   \n63             521.0              1067               1440.0   \n93             521.0              1067               1440.0   \n123            521.0              1067               1440.0   \n153            521.0              1067               1440.0   \n183            521.0              1067               1440.0   \n\n     Queensboro Bridge  Total  \n3               1307.0   4335  \n33              1307.0   4335  \n63              1307.0   4335  \n93              1307.0   4335  \n123             1307.0   4335  \n153             1307.0   4335  \n183             1307.0   4335  ",
      "text/html": "<div>\n<style scoped>\n    .dataframe tbody tr th:only-of-type {\n        vertical-align: middle;\n    }\n\n    .dataframe tbody tr th {\n        vertical-align: top;\n    }\n\n    .dataframe thead th {\n        text-align: right;\n    }\n</style>\n<table border=\"1\" class=\"dataframe\">\n  <thead>\n    <tr style=\"text-align: right;\">\n      <th></th>\n      <th>Date</th>\n      <th>Day</th>\n      <th>High Temp (°F)</th>\n      <th>Low Temp (°F)</th>\n      <th>Precipitation</th>\n      <th>Brooklyn Bridge</th>\n      <th>Manhattan Bridge</th>\n      <th>Williamsburg Bridge</th>\n      <th>Queensboro Bridge</th>\n      <th>Total</th>\n    </tr>\n  </thead>\n  <tbody>\n    <tr>\n      <th>3</th>\n      <td>2016-04-04</td>\n      <td>0</td>\n      <td>44.1</td>\n      <td>33.1</td>\n      <td>0.47 (S)</td>\n      <td>521.0</td>\n      <td>1067</td>\n      <td>1440.0</td>\n      <td>1307.0</td>\n      <td>4335</td>\n    </tr>\n    <tr>\n      <th>33</th>\n      <td>2016-04-04</td>\n      <td>0</td>\n      <td>44.1</td>\n      <td>33.1</td>\n      <td>0.47 (S)</td>\n      <td>521.0</td>\n      <td>1067</td>\n      <td>1440.0</td>\n      <td>1307.0</td>\n      <td>4335</td>\n    </tr>\n    <tr>\n      <th>63</th>\n      <td>2016-04-04</td>\n      <td>0</td>\n      <td>44.1</td>\n      <td>33.1</td>\n      <td>0.47 (S)</td>\n      <td>521.0</td>\n      <td>1067</td>\n      <td>1440.0</td>\n      <td>1307.0</td>\n      <td>4335</td>\n    </tr>\n    <tr>\n      <th>93</th>\n      <td>2016-04-04</td>\n      <td>0</td>\n      <td>44.1</td>\n      <td>33.1</td>\n      <td>0.47 (S)</td>\n      <td>521.0</td>\n      <td>1067</td>\n      <td>1440.0</td>\n      <td>1307.0</td>\n      <td>4335</td>\n    </tr>\n    <tr>\n      <th>123</th>\n      <td>2016-04-04</td>\n      <td>0</td>\n      <td>44.1</td>\n      <td>33.1</td>\n      <td>0.47 (S)</td>\n      <td>521.0</td>\n      <td>1067</td>\n      <td>1440.0</td>\n      <td>1307.0</td>\n      <td>4335</td>\n    </tr>\n    <tr>\n      <th>153</th>\n      <td>2016-04-04</td>\n      <td>0</td>\n      <td>44.1</td>\n      <td>33.1</td>\n      <td>0.47 (S)</td>\n      <td>521.0</td>\n      <td>1067</td>\n      <td>1440.0</td>\n      <td>1307.0</td>\n      <td>4335</td>\n    </tr>\n    <tr>\n      <th>183</th>\n      <td>2016-04-04</td>\n      <td>0</td>\n      <td>44.1</td>\n      <td>33.1</td>\n      <td>0.47 (S)</td>\n      <td>521.0</td>\n      <td>1067</td>\n      <td>1440.0</td>\n      <td>1307.0</td>\n      <td>4335</td>\n    </tr>\n  </tbody>\n</table>\n</div>"
     },
     "execution_count": 8,
     "metadata": {},
     "output_type": "execute_result"
    }
   ],
   "source": [
    "df[~df['Precipitation'].str.fullmatch(r'[0-9]*.[0-9]*')]"
   ],
   "metadata": {
    "collapsed": false,
    "pycharm": {
     "name": "#%%\n"
    }
   }
  },
  {
   "cell_type": "code",
   "execution_count": 9,
   "outputs": [],
   "source": [
    "df['Precipitation'] = df['Precipitation'].str.replace(r'\\(*[a-zA-Z]\\)*', '', regex=True)"
   ],
   "metadata": {
    "collapsed": false,
    "pycharm": {
     "name": "#%%\n"
    }
   }
  },
  {
   "cell_type": "code",
   "execution_count": 10,
   "outputs": [
    {
     "data": {
      "text/plain": "        Date  Day  High Temp (°F)  Low Temp (°F) Precipitation  \\\n0 2016-04-01    4            78.1           66.0          0.01   \n1 2016-04-02    5            55.0           48.9          0.15   \n2 2016-04-03    6            39.9           34.0          0.09   \n3 2016-04-04    0            44.1           33.1         0.47    \n4 2016-04-05    1            42.1           26.1             0   \n\n   Brooklyn Bridge  Manhattan Bridge  Williamsburg Bridge  Queensboro Bridge  \\\n0           1704.0              3126               4115.0             2552.0   \n1            827.0              1646               2565.0             1884.0   \n2            526.0              1232               1695.0             1306.0   \n3            521.0              1067               1440.0             1307.0   \n4           1416.0              2617               3081.0             2357.0   \n\n   Total  \n0  11497  \n1   6922  \n2   4759  \n3   4335  \n4   9471  ",
      "text/html": "<div>\n<style scoped>\n    .dataframe tbody tr th:only-of-type {\n        vertical-align: middle;\n    }\n\n    .dataframe tbody tr th {\n        vertical-align: top;\n    }\n\n    .dataframe thead th {\n        text-align: right;\n    }\n</style>\n<table border=\"1\" class=\"dataframe\">\n  <thead>\n    <tr style=\"text-align: right;\">\n      <th></th>\n      <th>Date</th>\n      <th>Day</th>\n      <th>High Temp (°F)</th>\n      <th>Low Temp (°F)</th>\n      <th>Precipitation</th>\n      <th>Brooklyn Bridge</th>\n      <th>Manhattan Bridge</th>\n      <th>Williamsburg Bridge</th>\n      <th>Queensboro Bridge</th>\n      <th>Total</th>\n    </tr>\n  </thead>\n  <tbody>\n    <tr>\n      <th>0</th>\n      <td>2016-04-01</td>\n      <td>4</td>\n      <td>78.1</td>\n      <td>66.0</td>\n      <td>0.01</td>\n      <td>1704.0</td>\n      <td>3126</td>\n      <td>4115.0</td>\n      <td>2552.0</td>\n      <td>11497</td>\n    </tr>\n    <tr>\n      <th>1</th>\n      <td>2016-04-02</td>\n      <td>5</td>\n      <td>55.0</td>\n      <td>48.9</td>\n      <td>0.15</td>\n      <td>827.0</td>\n      <td>1646</td>\n      <td>2565.0</td>\n      <td>1884.0</td>\n      <td>6922</td>\n    </tr>\n    <tr>\n      <th>2</th>\n      <td>2016-04-03</td>\n      <td>6</td>\n      <td>39.9</td>\n      <td>34.0</td>\n      <td>0.09</td>\n      <td>526.0</td>\n      <td>1232</td>\n      <td>1695.0</td>\n      <td>1306.0</td>\n      <td>4759</td>\n    </tr>\n    <tr>\n      <th>3</th>\n      <td>2016-04-04</td>\n      <td>0</td>\n      <td>44.1</td>\n      <td>33.1</td>\n      <td>0.47</td>\n      <td>521.0</td>\n      <td>1067</td>\n      <td>1440.0</td>\n      <td>1307.0</td>\n      <td>4335</td>\n    </tr>\n    <tr>\n      <th>4</th>\n      <td>2016-04-05</td>\n      <td>1</td>\n      <td>42.1</td>\n      <td>26.1</td>\n      <td>0</td>\n      <td>1416.0</td>\n      <td>2617</td>\n      <td>3081.0</td>\n      <td>2357.0</td>\n      <td>9471</td>\n    </tr>\n  </tbody>\n</table>\n</div>"
     },
     "execution_count": 10,
     "metadata": {},
     "output_type": "execute_result"
    }
   ],
   "source": [
    "df.head()"
   ],
   "metadata": {
    "collapsed": false,
    "pycharm": {
     "name": "#%%\n"
    }
   }
  },
  {
   "cell_type": "code",
   "execution_count": 11,
   "outputs": [
    {
     "name": "stdout",
     "output_type": "stream",
     "text": [
      "<class 'pandas.core.frame.DataFrame'>\n",
      "Int64Index: 210 entries, 0 to 209\n",
      "Data columns (total 10 columns):\n",
      " #   Column               Non-Null Count  Dtype         \n",
      "---  ------               --------------  -----         \n",
      " 0   Date                 210 non-null    datetime64[ns]\n",
      " 1   Day                  210 non-null    int64         \n",
      " 2   High Temp (°F)       210 non-null    float64       \n",
      " 3   Low Temp (°F)        210 non-null    float64       \n",
      " 4   Precipitation        210 non-null    object        \n",
      " 5   Brooklyn Bridge      210 non-null    float64       \n",
      " 6   Manhattan Bridge     210 non-null    int64         \n",
      " 7   Williamsburg Bridge  210 non-null    float64       \n",
      " 8   Queensboro Bridge    210 non-null    float64       \n",
      " 9   Total                210 non-null    int64         \n",
      "dtypes: datetime64[ns](1), float64(5), int64(3), object(1)\n",
      "memory usage: 18.0+ KB\n"
     ]
    }
   ],
   "source": [
    "df.info()"
   ],
   "metadata": {
    "collapsed": false,
    "pycharm": {
     "name": "#%%\n"
    }
   }
  },
  {
   "cell_type": "code",
   "execution_count": 12,
   "outputs": [],
   "source": [
    "df['Precipitation'] = df['Precipitation'].str.strip()"
   ],
   "metadata": {
    "collapsed": false,
    "pycharm": {
     "name": "#%%\n"
    }
   }
  },
  {
   "cell_type": "code",
   "execution_count": 13,
   "outputs": [],
   "source": [
    "df['Precipitation'] = df['Precipitation'].apply(lambda x: np.nan if x == '' else x)"
   ],
   "metadata": {
    "collapsed": false,
    "pycharm": {
     "name": "#%%\n"
    }
   }
  },
  {
   "cell_type": "code",
   "execution_count": 14,
   "outputs": [
    {
     "data": {
      "text/plain": "0      0.01\n1      0.15\n2      0.09\n3      0.47\n4      0.00\n       ... \n205    0.24\n206    0.00\n207    0.00\n208    0.05\n209    0.00\nName: Precipitation, Length: 210, dtype: float64"
     },
     "execution_count": 14,
     "metadata": {},
     "output_type": "execute_result"
    }
   ],
   "source": [
    "df['Precipitation'].astype('float64')"
   ],
   "metadata": {
    "collapsed": false,
    "pycharm": {
     "name": "#%%\n"
    }
   }
  },
  {
   "cell_type": "code",
   "execution_count": 15,
   "outputs": [],
   "source": [
    "df = df.dropna()"
   ],
   "metadata": {
    "collapsed": false,
    "pycharm": {
     "name": "#%%\n"
    }
   }
  },
  {
   "cell_type": "code",
   "execution_count": 16,
   "outputs": [
    {
     "data": {
      "text/plain": "        Date  Day  High Temp (°F)  Low Temp (°F) Precipitation  \\\n0 2016-04-01    4            78.1           66.0          0.01   \n1 2016-04-02    5            55.0           48.9          0.15   \n2 2016-04-03    6            39.9           34.0          0.09   \n3 2016-04-04    0            44.1           33.1          0.47   \n4 2016-04-05    1            42.1           26.1             0   \n\n   Brooklyn Bridge  Manhattan Bridge  Williamsburg Bridge  Queensboro Bridge  \\\n0           1704.0              3126               4115.0             2552.0   \n1            827.0              1646               2565.0             1884.0   \n2            526.0              1232               1695.0             1306.0   \n3            521.0              1067               1440.0             1307.0   \n4           1416.0              2617               3081.0             2357.0   \n\n   Total  \n0  11497  \n1   6922  \n2   4759  \n3   4335  \n4   9471  ",
      "text/html": "<div>\n<style scoped>\n    .dataframe tbody tr th:only-of-type {\n        vertical-align: middle;\n    }\n\n    .dataframe tbody tr th {\n        vertical-align: top;\n    }\n\n    .dataframe thead th {\n        text-align: right;\n    }\n</style>\n<table border=\"1\" class=\"dataframe\">\n  <thead>\n    <tr style=\"text-align: right;\">\n      <th></th>\n      <th>Date</th>\n      <th>Day</th>\n      <th>High Temp (°F)</th>\n      <th>Low Temp (°F)</th>\n      <th>Precipitation</th>\n      <th>Brooklyn Bridge</th>\n      <th>Manhattan Bridge</th>\n      <th>Williamsburg Bridge</th>\n      <th>Queensboro Bridge</th>\n      <th>Total</th>\n    </tr>\n  </thead>\n  <tbody>\n    <tr>\n      <th>0</th>\n      <td>2016-04-01</td>\n      <td>4</td>\n      <td>78.1</td>\n      <td>66.0</td>\n      <td>0.01</td>\n      <td>1704.0</td>\n      <td>3126</td>\n      <td>4115.0</td>\n      <td>2552.0</td>\n      <td>11497</td>\n    </tr>\n    <tr>\n      <th>1</th>\n      <td>2016-04-02</td>\n      <td>5</td>\n      <td>55.0</td>\n      <td>48.9</td>\n      <td>0.15</td>\n      <td>827.0</td>\n      <td>1646</td>\n      <td>2565.0</td>\n      <td>1884.0</td>\n      <td>6922</td>\n    </tr>\n    <tr>\n      <th>2</th>\n      <td>2016-04-03</td>\n      <td>6</td>\n      <td>39.9</td>\n      <td>34.0</td>\n      <td>0.09</td>\n      <td>526.0</td>\n      <td>1232</td>\n      <td>1695.0</td>\n      <td>1306.0</td>\n      <td>4759</td>\n    </tr>\n    <tr>\n      <th>3</th>\n      <td>2016-04-04</td>\n      <td>0</td>\n      <td>44.1</td>\n      <td>33.1</td>\n      <td>0.47</td>\n      <td>521.0</td>\n      <td>1067</td>\n      <td>1440.0</td>\n      <td>1307.0</td>\n      <td>4335</td>\n    </tr>\n    <tr>\n      <th>4</th>\n      <td>2016-04-05</td>\n      <td>1</td>\n      <td>42.1</td>\n      <td>26.1</td>\n      <td>0</td>\n      <td>1416.0</td>\n      <td>2617</td>\n      <td>3081.0</td>\n      <td>2357.0</td>\n      <td>9471</td>\n    </tr>\n  </tbody>\n</table>\n</div>"
     },
     "execution_count": 16,
     "metadata": {},
     "output_type": "execute_result"
    }
   ],
   "source": [
    "df.head()"
   ],
   "metadata": {
    "collapsed": false,
    "pycharm": {
     "name": "#%%\n"
    }
   }
  },
  {
   "cell_type": "code",
   "execution_count": 17,
   "outputs": [
    {
     "name": "stdout",
     "output_type": "stream",
     "text": [
      "<class 'pandas.core.frame.DataFrame'>\n",
      "Int64Index: 203 entries, 0 to 209\n",
      "Data columns (total 10 columns):\n",
      " #   Column               Non-Null Count  Dtype         \n",
      "---  ------               --------------  -----         \n",
      " 0   Date                 203 non-null    datetime64[ns]\n",
      " 1   Day                  203 non-null    int64         \n",
      " 2   High Temp (°F)       203 non-null    float64       \n",
      " 3   Low Temp (°F)        203 non-null    float64       \n",
      " 4   Precipitation        203 non-null    object        \n",
      " 5   Brooklyn Bridge      203 non-null    float64       \n",
      " 6   Manhattan Bridge     203 non-null    int64         \n",
      " 7   Williamsburg Bridge  203 non-null    float64       \n",
      " 8   Queensboro Bridge    203 non-null    float64       \n",
      " 9   Total                203 non-null    int64         \n",
      "dtypes: datetime64[ns](1), float64(5), int64(3), object(1)\n",
      "memory usage: 17.4+ KB\n"
     ]
    }
   ],
   "source": [
    "df.info()"
   ],
   "metadata": {
    "collapsed": false,
    "pycharm": {
     "name": "#%%\n"
    }
   }
  },
  {
   "cell_type": "code",
   "execution_count": 18,
   "outputs": [
    {
     "data": {
      "text/plain": "              Day  High Temp (°F)  Low Temp (°F)  Brooklyn Bridge  \\\ncount  203.000000      203.000000     203.000000       203.000000   \nmean     3.068966       59.975862      45.841379      2245.310345   \nstd      2.003752       10.880933       9.163167       989.119209   \nmin      0.000000       39.900000      26.100000       504.000000   \n25%      1.000000       55.000000      44.100000      1447.000000   \n50%      3.000000       62.100000      46.900000      2375.000000   \n75%      5.000000       68.000000      50.000000      3147.000000   \nmax      6.000000       81.000000      66.000000      3871.000000   \n\n       Manhattan Bridge  Williamsburg Bridge  Queensboro Bridge         Total  \ncount        203.000000           203.000000         203.000000    203.000000  \nmean        4019.965517          4820.034483        3335.310345  14420.620690  \nstd         1726.400368          1830.435117        1113.975602   5630.232122  \nmin          997.000000          1440.000000        1306.000000   4335.000000  \n25%         2617.000000          3282.000000        2457.000000   9596.000000  \n50%         4152.000000          5053.000000        3348.000000  14954.000000  \n75%         5309.000000          5995.000000        4192.000000  18315.000000  \nmax         6951.000000          7834.000000        5032.000000  23318.000000  ",
      "text/html": "<div>\n<style scoped>\n    .dataframe tbody tr th:only-of-type {\n        vertical-align: middle;\n    }\n\n    .dataframe tbody tr th {\n        vertical-align: top;\n    }\n\n    .dataframe thead th {\n        text-align: right;\n    }\n</style>\n<table border=\"1\" class=\"dataframe\">\n  <thead>\n    <tr style=\"text-align: right;\">\n      <th></th>\n      <th>Day</th>\n      <th>High Temp (°F)</th>\n      <th>Low Temp (°F)</th>\n      <th>Brooklyn Bridge</th>\n      <th>Manhattan Bridge</th>\n      <th>Williamsburg Bridge</th>\n      <th>Queensboro Bridge</th>\n      <th>Total</th>\n    </tr>\n  </thead>\n  <tbody>\n    <tr>\n      <th>count</th>\n      <td>203.000000</td>\n      <td>203.000000</td>\n      <td>203.000000</td>\n      <td>203.000000</td>\n      <td>203.000000</td>\n      <td>203.000000</td>\n      <td>203.000000</td>\n      <td>203.000000</td>\n    </tr>\n    <tr>\n      <th>mean</th>\n      <td>3.068966</td>\n      <td>59.975862</td>\n      <td>45.841379</td>\n      <td>2245.310345</td>\n      <td>4019.965517</td>\n      <td>4820.034483</td>\n      <td>3335.310345</td>\n      <td>14420.620690</td>\n    </tr>\n    <tr>\n      <th>std</th>\n      <td>2.003752</td>\n      <td>10.880933</td>\n      <td>9.163167</td>\n      <td>989.119209</td>\n      <td>1726.400368</td>\n      <td>1830.435117</td>\n      <td>1113.975602</td>\n      <td>5630.232122</td>\n    </tr>\n    <tr>\n      <th>min</th>\n      <td>0.000000</td>\n      <td>39.900000</td>\n      <td>26.100000</td>\n      <td>504.000000</td>\n      <td>997.000000</td>\n      <td>1440.000000</td>\n      <td>1306.000000</td>\n      <td>4335.000000</td>\n    </tr>\n    <tr>\n      <th>25%</th>\n      <td>1.000000</td>\n      <td>55.000000</td>\n      <td>44.100000</td>\n      <td>1447.000000</td>\n      <td>2617.000000</td>\n      <td>3282.000000</td>\n      <td>2457.000000</td>\n      <td>9596.000000</td>\n    </tr>\n    <tr>\n      <th>50%</th>\n      <td>3.000000</td>\n      <td>62.100000</td>\n      <td>46.900000</td>\n      <td>2375.000000</td>\n      <td>4152.000000</td>\n      <td>5053.000000</td>\n      <td>3348.000000</td>\n      <td>14954.000000</td>\n    </tr>\n    <tr>\n      <th>75%</th>\n      <td>5.000000</td>\n      <td>68.000000</td>\n      <td>50.000000</td>\n      <td>3147.000000</td>\n      <td>5309.000000</td>\n      <td>5995.000000</td>\n      <td>4192.000000</td>\n      <td>18315.000000</td>\n    </tr>\n    <tr>\n      <th>max</th>\n      <td>6.000000</td>\n      <td>81.000000</td>\n      <td>66.000000</td>\n      <td>3871.000000</td>\n      <td>6951.000000</td>\n      <td>7834.000000</td>\n      <td>5032.000000</td>\n      <td>23318.000000</td>\n    </tr>\n  </tbody>\n</table>\n</div>"
     },
     "execution_count": 18,
     "metadata": {},
     "output_type": "execute_result"
    }
   ],
   "source": [
    "df.describe()"
   ],
   "metadata": {
    "collapsed": false,
    "pycharm": {
     "name": "#%%\n"
    }
   }
  },
  {
   "cell_type": "code",
   "execution_count": 19,
   "outputs": [
    {
     "data": {
      "text/plain": "          Date  Day  High Temp (°F)  Low Temp (°F) Precipitation  \\\n0   2016-04-01    4            78.1           66.0          0.01   \n1   2016-04-02    5            55.0           48.9          0.15   \n2   2016-04-03    6            39.9           34.0          0.09   \n3   2016-04-04    0            44.1           33.1          0.47   \n4   2016-04-05    1            42.1           26.1             0   \n..         ...  ...             ...            ...           ...   \n205 2016-04-26    1            60.1           46.9          0.24   \n206 2016-04-27    2            62.1           46.9             0   \n207 2016-04-28    3            57.9           48.0             0   \n208 2016-04-29    4            57.0           46.9          0.05   \n209 2016-04-30    5            64.0           48.0             0   \n\n     Brooklyn Bridge  Manhattan Bridge  Williamsburg Bridge  \\\n0             1704.0              3126               4115.0   \n1              827.0              1646               2565.0   \n2              526.0              1232               1695.0   \n3              521.0              1067               1440.0   \n4             1416.0              2617               3081.0   \n..               ...               ...                  ...   \n205           1997.0              3520               4559.0   \n206           3343.0              5606               6577.0   \n207           2486.0              4152               5336.0   \n208           2375.0              4178               5053.0   \n209           3199.0              4952               5675.0   \n\n     Queensboro Bridge  Total  High Temp (°C)  Low Temp (°C)  \n0               2552.0  11497            25.6           18.9  \n1               1884.0   6922            12.8            9.4  \n2               1306.0   4759             4.4            1.1  \n3               1307.0   4335             6.7            0.6  \n4               2357.0   9471             5.6           -3.3  \n..                 ...    ...             ...            ...  \n205             2929.0  13005            15.6            8.3  \n206             4388.0  19914            16.7            8.3  \n207             3657.0  15631            14.4            8.9  \n208             3348.0  14954            13.9            8.3  \n209             3606.0  17432            17.8            8.9  \n\n[203 rows x 12 columns]",
      "text/html": "<div>\n<style scoped>\n    .dataframe tbody tr th:only-of-type {\n        vertical-align: middle;\n    }\n\n    .dataframe tbody tr th {\n        vertical-align: top;\n    }\n\n    .dataframe thead th {\n        text-align: right;\n    }\n</style>\n<table border=\"1\" class=\"dataframe\">\n  <thead>\n    <tr style=\"text-align: right;\">\n      <th></th>\n      <th>Date</th>\n      <th>Day</th>\n      <th>High Temp (°F)</th>\n      <th>Low Temp (°F)</th>\n      <th>Precipitation</th>\n      <th>Brooklyn Bridge</th>\n      <th>Manhattan Bridge</th>\n      <th>Williamsburg Bridge</th>\n      <th>Queensboro Bridge</th>\n      <th>Total</th>\n      <th>High Temp (°C)</th>\n      <th>Low Temp (°C)</th>\n    </tr>\n  </thead>\n  <tbody>\n    <tr>\n      <th>0</th>\n      <td>2016-04-01</td>\n      <td>4</td>\n      <td>78.1</td>\n      <td>66.0</td>\n      <td>0.01</td>\n      <td>1704.0</td>\n      <td>3126</td>\n      <td>4115.0</td>\n      <td>2552.0</td>\n      <td>11497</td>\n      <td>25.6</td>\n      <td>18.9</td>\n    </tr>\n    <tr>\n      <th>1</th>\n      <td>2016-04-02</td>\n      <td>5</td>\n      <td>55.0</td>\n      <td>48.9</td>\n      <td>0.15</td>\n      <td>827.0</td>\n      <td>1646</td>\n      <td>2565.0</td>\n      <td>1884.0</td>\n      <td>6922</td>\n      <td>12.8</td>\n      <td>9.4</td>\n    </tr>\n    <tr>\n      <th>2</th>\n      <td>2016-04-03</td>\n      <td>6</td>\n      <td>39.9</td>\n      <td>34.0</td>\n      <td>0.09</td>\n      <td>526.0</td>\n      <td>1232</td>\n      <td>1695.0</td>\n      <td>1306.0</td>\n      <td>4759</td>\n      <td>4.4</td>\n      <td>1.1</td>\n    </tr>\n    <tr>\n      <th>3</th>\n      <td>2016-04-04</td>\n      <td>0</td>\n      <td>44.1</td>\n      <td>33.1</td>\n      <td>0.47</td>\n      <td>521.0</td>\n      <td>1067</td>\n      <td>1440.0</td>\n      <td>1307.0</td>\n      <td>4335</td>\n      <td>6.7</td>\n      <td>0.6</td>\n    </tr>\n    <tr>\n      <th>4</th>\n      <td>2016-04-05</td>\n      <td>1</td>\n      <td>42.1</td>\n      <td>26.1</td>\n      <td>0</td>\n      <td>1416.0</td>\n      <td>2617</td>\n      <td>3081.0</td>\n      <td>2357.0</td>\n      <td>9471</td>\n      <td>5.6</td>\n      <td>-3.3</td>\n    </tr>\n    <tr>\n      <th>...</th>\n      <td>...</td>\n      <td>...</td>\n      <td>...</td>\n      <td>...</td>\n      <td>...</td>\n      <td>...</td>\n      <td>...</td>\n      <td>...</td>\n      <td>...</td>\n      <td>...</td>\n      <td>...</td>\n      <td>...</td>\n    </tr>\n    <tr>\n      <th>205</th>\n      <td>2016-04-26</td>\n      <td>1</td>\n      <td>60.1</td>\n      <td>46.9</td>\n      <td>0.24</td>\n      <td>1997.0</td>\n      <td>3520</td>\n      <td>4559.0</td>\n      <td>2929.0</td>\n      <td>13005</td>\n      <td>15.6</td>\n      <td>8.3</td>\n    </tr>\n    <tr>\n      <th>206</th>\n      <td>2016-04-27</td>\n      <td>2</td>\n      <td>62.1</td>\n      <td>46.9</td>\n      <td>0</td>\n      <td>3343.0</td>\n      <td>5606</td>\n      <td>6577.0</td>\n      <td>4388.0</td>\n      <td>19914</td>\n      <td>16.7</td>\n      <td>8.3</td>\n    </tr>\n    <tr>\n      <th>207</th>\n      <td>2016-04-28</td>\n      <td>3</td>\n      <td>57.9</td>\n      <td>48.0</td>\n      <td>0</td>\n      <td>2486.0</td>\n      <td>4152</td>\n      <td>5336.0</td>\n      <td>3657.0</td>\n      <td>15631</td>\n      <td>14.4</td>\n      <td>8.9</td>\n    </tr>\n    <tr>\n      <th>208</th>\n      <td>2016-04-29</td>\n      <td>4</td>\n      <td>57.0</td>\n      <td>46.9</td>\n      <td>0.05</td>\n      <td>2375.0</td>\n      <td>4178</td>\n      <td>5053.0</td>\n      <td>3348.0</td>\n      <td>14954</td>\n      <td>13.9</td>\n      <td>8.3</td>\n    </tr>\n    <tr>\n      <th>209</th>\n      <td>2016-04-30</td>\n      <td>5</td>\n      <td>64.0</td>\n      <td>48.0</td>\n      <td>0</td>\n      <td>3199.0</td>\n      <td>4952</td>\n      <td>5675.0</td>\n      <td>3606.0</td>\n      <td>17432</td>\n      <td>17.8</td>\n      <td>8.9</td>\n    </tr>\n  </tbody>\n</table>\n<p>203 rows × 12 columns</p>\n</div>"
     },
     "execution_count": 19,
     "metadata": {},
     "output_type": "execute_result"
    }
   ],
   "source": [
    "df['High Temp (°C)'] = df['High Temp (°F)'].apply(lambda x: round((x - 32) * 5 / 9, 1))\n",
    "df['Low Temp (°C)'] = df['Low Temp (°F)'].apply(lambda x: round((x - 32) * 5 / 9, 1))\n",
    "df"
   ],
   "metadata": {
    "collapsed": false,
    "pycharm": {
     "name": "#%%\n"
    }
   }
  },
  {
   "cell_type": "code",
   "execution_count": 20,
   "outputs": [
    {
     "data": {
      "text/plain": "        Date  Day Precipitation  Brooklyn Bridge  Manhattan Bridge  \\\n0 2016-04-01    4          0.01           1704.0              3126   \n1 2016-04-02    5          0.15            827.0              1646   \n2 2016-04-03    6          0.09            526.0              1232   \n3 2016-04-04    0          0.47            521.0              1067   \n4 2016-04-05    1             0           1416.0              2617   \n\n   Williamsburg Bridge  Queensboro Bridge  Total  High Temp (°C)  \\\n0               4115.0             2552.0  11497            25.6   \n1               2565.0             1884.0   6922            12.8   \n2               1695.0             1306.0   4759             4.4   \n3               1440.0             1307.0   4335             6.7   \n4               3081.0             2357.0   9471             5.6   \n\n   Low Temp (°C)  \n0           18.9  \n1            9.4  \n2            1.1  \n3            0.6  \n4           -3.3  ",
      "text/html": "<div>\n<style scoped>\n    .dataframe tbody tr th:only-of-type {\n        vertical-align: middle;\n    }\n\n    .dataframe tbody tr th {\n        vertical-align: top;\n    }\n\n    .dataframe thead th {\n        text-align: right;\n    }\n</style>\n<table border=\"1\" class=\"dataframe\">\n  <thead>\n    <tr style=\"text-align: right;\">\n      <th></th>\n      <th>Date</th>\n      <th>Day</th>\n      <th>Precipitation</th>\n      <th>Brooklyn Bridge</th>\n      <th>Manhattan Bridge</th>\n      <th>Williamsburg Bridge</th>\n      <th>Queensboro Bridge</th>\n      <th>Total</th>\n      <th>High Temp (°C)</th>\n      <th>Low Temp (°C)</th>\n    </tr>\n  </thead>\n  <tbody>\n    <tr>\n      <th>0</th>\n      <td>2016-04-01</td>\n      <td>4</td>\n      <td>0.01</td>\n      <td>1704.0</td>\n      <td>3126</td>\n      <td>4115.0</td>\n      <td>2552.0</td>\n      <td>11497</td>\n      <td>25.6</td>\n      <td>18.9</td>\n    </tr>\n    <tr>\n      <th>1</th>\n      <td>2016-04-02</td>\n      <td>5</td>\n      <td>0.15</td>\n      <td>827.0</td>\n      <td>1646</td>\n      <td>2565.0</td>\n      <td>1884.0</td>\n      <td>6922</td>\n      <td>12.8</td>\n      <td>9.4</td>\n    </tr>\n    <tr>\n      <th>2</th>\n      <td>2016-04-03</td>\n      <td>6</td>\n      <td>0.09</td>\n      <td>526.0</td>\n      <td>1232</td>\n      <td>1695.0</td>\n      <td>1306.0</td>\n      <td>4759</td>\n      <td>4.4</td>\n      <td>1.1</td>\n    </tr>\n    <tr>\n      <th>3</th>\n      <td>2016-04-04</td>\n      <td>0</td>\n      <td>0.47</td>\n      <td>521.0</td>\n      <td>1067</td>\n      <td>1440.0</td>\n      <td>1307.0</td>\n      <td>4335</td>\n      <td>6.7</td>\n      <td>0.6</td>\n    </tr>\n    <tr>\n      <th>4</th>\n      <td>2016-04-05</td>\n      <td>1</td>\n      <td>0</td>\n      <td>1416.0</td>\n      <td>2617</td>\n      <td>3081.0</td>\n      <td>2357.0</td>\n      <td>9471</td>\n      <td>5.6</td>\n      <td>-3.3</td>\n    </tr>\n  </tbody>\n</table>\n</div>"
     },
     "execution_count": 20,
     "metadata": {},
     "output_type": "execute_result"
    }
   ],
   "source": [
    "df.drop(['High Temp (°F)', 'Low Temp (°F)'], axis=1, inplace=True)\n",
    "df.head()"
   ],
   "metadata": {
    "collapsed": false,
    "pycharm": {
     "name": "#%%\n"
    }
   }
  },
  {
   "cell_type": "code",
   "execution_count": 21,
   "outputs": [
    {
     "data": {
      "text/plain": "        Date  Day Precipitation  Brooklyn_Bridge  Manhattan_Bridge  \\\n0 2016-04-01    4          0.01           1704.0              3126   \n1 2016-04-02    5          0.15            827.0              1646   \n2 2016-04-03    6          0.09            526.0              1232   \n3 2016-04-04    0          0.47            521.0              1067   \n4 2016-04-05    1             0           1416.0              2617   \n\n   Williamsburg_Bridge  Queensboro_Bridge  Total  High_Temp_(°C)  \\\n0               4115.0             2552.0  11497            25.6   \n1               2565.0             1884.0   6922            12.8   \n2               1695.0             1306.0   4759             4.4   \n3               1440.0             1307.0   4335             6.7   \n4               3081.0             2357.0   9471             5.6   \n\n   Low_Temp_(°C)  \n0           18.9  \n1            9.4  \n2            1.1  \n3            0.6  \n4           -3.3  ",
      "text/html": "<div>\n<style scoped>\n    .dataframe tbody tr th:only-of-type {\n        vertical-align: middle;\n    }\n\n    .dataframe tbody tr th {\n        vertical-align: top;\n    }\n\n    .dataframe thead th {\n        text-align: right;\n    }\n</style>\n<table border=\"1\" class=\"dataframe\">\n  <thead>\n    <tr style=\"text-align: right;\">\n      <th></th>\n      <th>Date</th>\n      <th>Day</th>\n      <th>Precipitation</th>\n      <th>Brooklyn_Bridge</th>\n      <th>Manhattan_Bridge</th>\n      <th>Williamsburg_Bridge</th>\n      <th>Queensboro_Bridge</th>\n      <th>Total</th>\n      <th>High_Temp_(°C)</th>\n      <th>Low_Temp_(°C)</th>\n    </tr>\n  </thead>\n  <tbody>\n    <tr>\n      <th>0</th>\n      <td>2016-04-01</td>\n      <td>4</td>\n      <td>0.01</td>\n      <td>1704.0</td>\n      <td>3126</td>\n      <td>4115.0</td>\n      <td>2552.0</td>\n      <td>11497</td>\n      <td>25.6</td>\n      <td>18.9</td>\n    </tr>\n    <tr>\n      <th>1</th>\n      <td>2016-04-02</td>\n      <td>5</td>\n      <td>0.15</td>\n      <td>827.0</td>\n      <td>1646</td>\n      <td>2565.0</td>\n      <td>1884.0</td>\n      <td>6922</td>\n      <td>12.8</td>\n      <td>9.4</td>\n    </tr>\n    <tr>\n      <th>2</th>\n      <td>2016-04-03</td>\n      <td>6</td>\n      <td>0.09</td>\n      <td>526.0</td>\n      <td>1232</td>\n      <td>1695.0</td>\n      <td>1306.0</td>\n      <td>4759</td>\n      <td>4.4</td>\n      <td>1.1</td>\n    </tr>\n    <tr>\n      <th>3</th>\n      <td>2016-04-04</td>\n      <td>0</td>\n      <td>0.47</td>\n      <td>521.0</td>\n      <td>1067</td>\n      <td>1440.0</td>\n      <td>1307.0</td>\n      <td>4335</td>\n      <td>6.7</td>\n      <td>0.6</td>\n    </tr>\n    <tr>\n      <th>4</th>\n      <td>2016-04-05</td>\n      <td>1</td>\n      <td>0</td>\n      <td>1416.0</td>\n      <td>2617</td>\n      <td>3081.0</td>\n      <td>2357.0</td>\n      <td>9471</td>\n      <td>5.6</td>\n      <td>-3.3</td>\n    </tr>\n  </tbody>\n</table>\n</div>"
     },
     "execution_count": 21,
     "metadata": {},
     "output_type": "execute_result"
    }
   ],
   "source": [
    "df.columns = [name.replace(' ', '_') for name in df.columns.values]\n",
    "df.head()"
   ],
   "metadata": {
    "collapsed": false,
    "pycharm": {
     "name": "#%%\n"
    }
   }
  },
  {
   "cell_type": "code",
   "execution_count": 22,
   "outputs": [
    {
     "data": {
      "text/plain": "        Date  Day Precipitation  High_Temp_(°C)  Low_Temp_(°C)  \\\n0 2016-04-01    4          0.01            25.6           18.9   \n1 2016-04-02    5          0.15            12.8            9.4   \n2 2016-04-03    6          0.09             4.4            1.1   \n3 2016-04-04    0          0.47             6.7            0.6   \n4 2016-04-05    1             0             5.6           -3.3   \n\n   Brooklyn_Bridge  Manhattan_Bridge  Williamsburg_Bridge  Queensboro_Bridge  \\\n0           1704.0              3126               4115.0             2552.0   \n1            827.0              1646               2565.0             1884.0   \n2            526.0              1232               1695.0             1306.0   \n3            521.0              1067               1440.0             1307.0   \n4           1416.0              2617               3081.0             2357.0   \n\n   Total  \n0  11497  \n1   6922  \n2   4759  \n3   4335  \n4   9471  ",
      "text/html": "<div>\n<style scoped>\n    .dataframe tbody tr th:only-of-type {\n        vertical-align: middle;\n    }\n\n    .dataframe tbody tr th {\n        vertical-align: top;\n    }\n\n    .dataframe thead th {\n        text-align: right;\n    }\n</style>\n<table border=\"1\" class=\"dataframe\">\n  <thead>\n    <tr style=\"text-align: right;\">\n      <th></th>\n      <th>Date</th>\n      <th>Day</th>\n      <th>Precipitation</th>\n      <th>High_Temp_(°C)</th>\n      <th>Low_Temp_(°C)</th>\n      <th>Brooklyn_Bridge</th>\n      <th>Manhattan_Bridge</th>\n      <th>Williamsburg_Bridge</th>\n      <th>Queensboro_Bridge</th>\n      <th>Total</th>\n    </tr>\n  </thead>\n  <tbody>\n    <tr>\n      <th>0</th>\n      <td>2016-04-01</td>\n      <td>4</td>\n      <td>0.01</td>\n      <td>25.6</td>\n      <td>18.9</td>\n      <td>1704.0</td>\n      <td>3126</td>\n      <td>4115.0</td>\n      <td>2552.0</td>\n      <td>11497</td>\n    </tr>\n    <tr>\n      <th>1</th>\n      <td>2016-04-02</td>\n      <td>5</td>\n      <td>0.15</td>\n      <td>12.8</td>\n      <td>9.4</td>\n      <td>827.0</td>\n      <td>1646</td>\n      <td>2565.0</td>\n      <td>1884.0</td>\n      <td>6922</td>\n    </tr>\n    <tr>\n      <th>2</th>\n      <td>2016-04-03</td>\n      <td>6</td>\n      <td>0.09</td>\n      <td>4.4</td>\n      <td>1.1</td>\n      <td>526.0</td>\n      <td>1232</td>\n      <td>1695.0</td>\n      <td>1306.0</td>\n      <td>4759</td>\n    </tr>\n    <tr>\n      <th>3</th>\n      <td>2016-04-04</td>\n      <td>0</td>\n      <td>0.47</td>\n      <td>6.7</td>\n      <td>0.6</td>\n      <td>521.0</td>\n      <td>1067</td>\n      <td>1440.0</td>\n      <td>1307.0</td>\n      <td>4335</td>\n    </tr>\n    <tr>\n      <th>4</th>\n      <td>2016-04-05</td>\n      <td>1</td>\n      <td>0</td>\n      <td>5.6</td>\n      <td>-3.3</td>\n      <td>1416.0</td>\n      <td>2617</td>\n      <td>3081.0</td>\n      <td>2357.0</td>\n      <td>9471</td>\n    </tr>\n  </tbody>\n</table>\n</div>"
     },
     "execution_count": 22,
     "metadata": {},
     "output_type": "execute_result"
    }
   ],
   "source": [
    "df = df[['Date', 'Day', 'Precipitation', 'High_Temp_(°C)', 'Low_Temp_(°C)', 'Brooklyn_Bridge', 'Manhattan_Bridge', 'Williamsburg_Bridge', 'Queensboro_Bridge', 'Total']]\n",
    "df.head()"
   ],
   "metadata": {
    "collapsed": false,
    "pycharm": {
     "name": "#%%\n"
    }
   }
  },
  {
   "cell_type": "code",
   "execution_count": 22,
   "outputs": [],
   "source": [
    "df.to_csv"
   ],
   "metadata": {
    "collapsed": false,
    "pycharm": {
     "name": "#%%\n"
    }
   }
  }
 ],
 "metadata": {
  "kernelspec": {
   "display_name": "Python 3",
   "language": "python",
   "name": "python3"
  },
  "language_info": {
   "codemirror_mode": {
    "name": "ipython",
    "version": 2
   },
   "file_extension": ".py",
   "mimetype": "text/x-python",
   "name": "python",
   "nbconvert_exporter": "python",
   "pygments_lexer": "ipython2",
   "version": "2.7.6"
  }
 },
 "nbformat": 4,
 "nbformat_minor": 0
}